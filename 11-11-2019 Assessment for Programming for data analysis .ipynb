{
 "cells": [
  {
   "cell_type": "markdown",
   "metadata": {},
   "source": [
    "This is the Project for Programming for data analysis\n",
    "\n",
    "Deadline is 11th Nov at https://github.com/kiyokosaito/Programming-for-data-analysis-11-11-2019\n",
    "\n",
    "[Introduction] What I will cover in this project is \"numpy\" package in Python. I will explain what numpy is first then will display 5 distributions from the package what we can do with them in this project.\n",
    "\n",
    "1. Purpose of the package\n",
    "2. Explanation of the use of the \"Simple random data\" and \"Permutations\" functions\n",
    "3. 5 distrubutions fuctions\n",
    "4. The use of seeds in generating pseudorandom numbers."
   ]
  },
  {
   "cell_type": "markdown",
   "metadata": {},
   "source": [
    "[Introduction]\n",
    "Numpy is the package in Python that can handle a long lists in python that provides a multidimensional array objects. I am going to through next 4 sections to study numpy package in Python. \n"
   ]
  },
  {
   "cell_type": "markdown",
   "metadata": {},
   "source": [
    "1.Purpose of the package\n",
    "\n",
    "\"NumPy is the fundamental package for scientific computing with Python. It contains among other things:\n",
    "\n",
    "-a powerful N-dimensional array object\n",
    "\n",
    "-sophisticated (broadcasting) functions\n",
    "\n",
    "-tools for integrating C/C++ and Fortran code\n",
    "\n",
    "-useful linear algebra, Fourier transform, and random number capabilities\" [adapted from / see at https://numpy.org/]\n",
    "\n",
    "Numpy is a very useful package when it comes to handle data for mathmatical operations. Numpy uses less storage than Python thus it is much faster to handle large amount of data/lists. [adapted from / see at https://towardsdatascience.com/a-hitchhiker-guide-to-python-numpy-arrays-9358de570121]\n",
    "\n",
    "\"This library provides you with an array data structure that holds some benefits over Python lists, such as: being more compact, faster access in reading and writing items, being more convenient and more efficient.\" [quated from / see at https://www.datacamp.com/community/tutorials/python-numpy-tutorial]"
   ]
  },
  {
   "cell_type": "markdown",
   "metadata": {},
   "source": [
    "### 2. Explanation of the use of the \"Simple random data\" and \"Permutations\" functions\n",
    "\n",
    "##### Simple random data\n",
    "Selecting subjects completely at random from the larger population also yields a sample that is representative of the group being studied.\n",
    "\n",
    "\"A simple random sample takes a small, random portion of the entire population to represent the entire data set, where each member has an equal probability of being chosen. (If human picks random numbers, numbers can be biasly picked) Researchers can create a simple random sample using methods like lotteries or random draws. A sampling error can occur with a simple random sample if the sample does not end up accurately reflecting the population it is supposed to represent.\" [https://www.investopedia.com/terms/s/simple-random-sample.asp]\n",
    "\n",
    "##### Permutations\n",
    "A permutation is a method used to calculate the total outcomes of a situation where order matters. (Prize/awards situation)\n",
    "\n",
    "If order doest not matter, combination is a method used to calculate the total outcomes of a situation. (Lottery)\n",
    "\n",
    "Both functions are very useful methods in calculating/computing/sorting large amount of data.\n",
    "\n",
    "\n",
    "    \n",
    "\n",
    "\n"
   ]
  },
  {
   "cell_type": "markdown",
   "metadata": {},
   "source": [
    "### 3. The use and purpose of 5 distrubutions fuctions\n",
    "\n",
    "There are two types of variables : Disctrete and Countenuous. \n",
    "\n",
    "Discrete variables \n",
    "        'A discrete variable is a variable whose value is obtained by counting.' (quated from http://www.henry.k12.ga.us/ugh/apstat/chapternotes/7supplement.html)\n",
    "        \n",
    "        \n",
    "        e.g. A. How many escalation cases per region (3 regions) in the second quater of 2019\n",
    "                     < Poisson : based on this data, next years 2nd quater's escalation cases can be predicted by regions >\n",
    "             B. 'Warm' or 'Cold' transfer calls to internal agents in different teams from 1999-2000 \n",
    "                     < Categorical : different teams are categorial and type of calls to internal agents has probability >\n",
    "             C. The number of misescalation cases on specific user issues per region in 3 weeks \n",
    "                      <Binary : correct escalation - False, misescalation - True. Each outcome has probability >\n",
    "\n",
    "Contenuous variables\n",
    "       ' A continuous variable is a variable whose value is obtained by measuring.' (quated from http://www.henry.k12.ga.us/ugh/apstat/chapternotes/7supplement.html )\n",
    "       \n",
    "         e.g. D. The period takes to solve tickets of different user issues < normal : to find the behavior of most of the                          situations >\n",
    "              E. How long the agents spend on the 1st call and the follow up email. <Exponential : 'the\n",
    "                     exponential distribution deals with the time between occurrences of successive events as time flows by\n",
    "                     continuously'quated from https://www.kellogg.northwestern.edu/faculty/weber/decs-                                              430/Notes%20on%20the%20Poisson%20and%20exponential%20distributions.pdf>\n",
    "       \n",
    "       \n",
    "\n",
    "    1. Discrete probability distributions for discrete variables (3 distributions: Poisson, Categorical and Biomial)\n",
    "    2. Probability density functions for continuous variables (2 distributions : Normal and exponential)\n"
   ]
  },
  {
   "cell_type": "markdown",
   "metadata": {},
   "source": [
    "[Poisson distribution] \n",
    "   'In statistics, a Poisson distribution is a statistical distribution that shows how many times an event is likely to occur within a specified period of time. It is used for independent events which occur at a constant rate within a given interval of time.' quated from https://www.investopedia.com/terms/p/poisson-distribution.asp\n",
    "   \n",
    "    +How many escalation cases per region (3 regions) in the second quater of 2019 to predict the misescalation in the             following quater\n",
    "    \n",
    "    \n"
   ]
  },
  {
   "cell_type": "code",
   "execution_count": 30,
   "metadata": {},
   "outputs": [],
   "source": [
    "import numpy as np\n",
    "s = np.random.poisson(5, 10000)"
   ]
  },
  {
   "cell_type": "code",
   "execution_count": 31,
   "metadata": {},
   "outputs": [
    {
     "name": "stderr",
     "output_type": "stream",
     "text": [
      "C:\\Users\\kiyok\\AppData\\Local\\Continuum\\anaconda3\\lib\\site-packages\\ipykernel_launcher.py:2: MatplotlibDeprecationWarning: \n",
      "The 'normed' kwarg was deprecated in Matplotlib 2.1 and will be removed in 3.1. Use 'density' instead.\n",
      "  \n"
     ]
    },
    {
     "data": {
      "image/png": "[encoded data removed]",
      "text/plain": [
       "<Figure size 432x288 with 1 Axes>"
      ]
     },
     "metadata": {
      "needs_background": "light"
     },
     "output_type": "display_data"
    }
   ],
   "source": [
    "import matplotlib.pyplot as plt\n",
    "count, bins, ignored = plt.hist(s, 14, normed=True)\n",
    "plt.show()"
   ]
  },
  {
   "cell_type": "markdown",
   "metadata": {},
   "source": [
    "[Categorical/multinominal distribution] \n",
    "\n",
    "'A categorical variable also has a discrete probability distribution of values. Each level of the categorical variable is associated with a probability. To determine whether the distribution of categorical data follows the values that you expect, you can perform the Chi-Square Goodness-of-Fit test. This test is very similar to the Poisson version except that you must specify the test proportions.'quated from https://statisticsbyjim.com/hypothesis-testing/goodness-fit-tests-discrete-distributions/\n",
    "\n",
    "    +'The individuals are survey respondents, and the variable is the response they choose from among \"Not at all satisfied,\"       \"Somewhat satisfied,\" and \"Very satisfied.'     https://www.inferentialthinking.com/chapters/07/1/Visualizing_Categorical_Distributions.html\n",
    "    +'Warm' or 'Cold' transfer calls to internal agents in different teams from 1999-2000\n"
   ]
  },
  {
   "cell_type": "markdown",
   "metadata": {},
   "source": [
    "[ Binomial distribution ] adapted from https://towardsdatascience.com/fun-with-the-binomial-distribution-96a5ecabf65b\n",
    "\n",
    "    'A binomial distribution can be thought of as simply the probability of a SUCCESS or FAILURE outcome in an experiment or survey that is repeated multiple times. The binomial is a type of distribution that has two possible outcomes (the prefix “bi” means two, or twice). For example, a coin toss has only two possible outcomes: heads or tails and taking a test could have two possible outcomes: pass or fail.' [Quated from https://www.statisticshowto.datasciencecentral.com/probability-and-statistics/binomial-theorem/binomial-distribution-formula/]\n",
    "        \n",
    "    +The number of misescalation cases on specific user issues per region in 3 weeks (correct escalation - False, misescalation - True)\n",
    "    +Coin toss (heads or tails) \n",
    "                "
   ]
  },
  {
   "cell_type": "code",
   "execution_count": 19,
   "metadata": {},
   "outputs": [
    {
     "data": {
      "text/plain": [
       "Text(0, 0.5, 'Frequency')"
      ]
     },
     "execution_count": 19,
     "metadata": {},
     "output_type": "execute_result"
    },
    {
     "data": {
      "image/png": "[encoded data removed]",
      "text/plain": [
       "<Figure size 1008x504 with 1 Axes>"
      ]
     },
     "metadata": {
      "needs_background": "light"
     },
     "output_type": "display_data"
    }
   ],
   "source": [
    "# Import libraries\n",
    "import numpy as np\n",
    "import matplotlib.pyplot as plt\n",
    "import seaborn as sns\n",
    "# Input variables\n",
    "# Number of trials\n",
    "trials = 1000\n",
    "# Number of independent experiments in each trial\n",
    "n = 10\n",
    "# Probability of success for each experiment\n",
    "p = 0.5\n",
    "# Function that runs our coin toss trials\n",
    "# heads is a list of the number of successes from each trial of n experiments\n",
    "def run_binom(trials, n, p):\n",
    "    heads = []\n",
    "    for i in range(trials):\n",
    "        tosses = [np.random.random() for i in range(n)]\n",
    "        heads.append(len([i for i in tosses if i>=0.50]))\n",
    "    return heads\n",
    "# Run the function\n",
    "heads = run_binom(trials, n, p)\n",
    "# Plot the results as a histogram\n",
    "fig, ax = plt.subplots(figsize=(14,7))\n",
    "ax = sns.distplot(heads, bins=11, label='simulation results')\n",
    "ax.set_xlabel(\"Number of Heads\",fontsize=16)\n",
    "ax.set_ylabel(\"Frequency\",fontsize=16)"
   ]
  },
  {
   "cell_type": "markdown",
   "metadata": {},
   "source": [
    "[Normal distribution]\n",
    "'Normal distribution represents the behavior of most of the situations in the universe (That is why it’s called a “normal” distribution. I guess!). The large sum of (small) random variables often turns out to be normally distributed, contributing to its widespread application. Any distribution is known as Normal distribution if it has the following characteristics:\n",
    "\n",
    "1.The mean, median and mode of the distribution coincide.\n",
    "2.The curve of the distribution is bell-shaped and symmetrical about the line x=μ.\n",
    "3.The total area under the curve is 1.\n",
    "4.Exactly half of the values are to the left of the center and the other half to the right.\n",
    "\n",
    "A normal distribution is highly different from Binomial Distribution. However, if the number of trials approaches infinity then the shapes will be quite similar.' (quated from https://www.analyticsvidhya.com/blog/2017/09/6-probability-distributions-data-science/)\n",
    "\n",
    "    + The period takes to solve tickets of different user issues "
   ]
  },
  {
   "cell_type": "markdown",
   "metadata": {},
   "source": [
    "[Exponential distribution]\n",
    "'The exponential distribution is often concerned with the amount of time until some specific event occurs. For example, the amount of time (beginning now) until an earthquake occurs has an exponential distribution. Other examples include the length, in minutes, of long distance business telephone calls, and the amount of time, in months, a car battery lasts. It can be shown, too, that the value of the change that you have in your pocket or purse approximately follows an exponential distribution.' (quated from https://courses.lumenlearning.com/introstats1/chapter/the-exponential-distribution/)\n",
    "\n",
    "    +How long the agents spend on the 1st call and the follow up email."
   ]
  },
  {
   "cell_type": "markdown",
   "metadata": {},
   "source": [
    "### 4.Explain the use of seeds in generating pseudorandom numbers\n"
   ]
  },
  {
   "cell_type": "markdown",
   "metadata": {},
   "source": [
    "'Pseudo Random Number Generator(PRNG) refers to an algorithm that uses mathematical formulas to produce sequences of random numbers. PRNGs generate a sequence of numbers approximating the properties of random numbers.\n",
    "\n",
    "A PRNG starts from an arbitrary starting state using a seed state. Many numbers are generated in a short time and can also be reproduced later, if the starting point in the sequence is known. Hence, the numbers are deterministic and efficient.' (quated from https://www.geeksforgeeks.org/pseudo-random-number-generator-prng/)\n",
    "\n",
    "'Random number or data generated by Python’s random module is not truly random, it is pseudo-random(it is PRNG), i.e. deterministic. It produces the numbers from some value. This value is nothing but a seed value. i.e. The random module uses the seed value as a base to generate a random number.\n",
    "\n",
    "Generally, the seed value is the previous number generated by the generator. However, When the first time you use the random generator, there is no previous value. So by-default current system time is used as a seed value.\n",
    "\n",
    "The seed value is very significant in the field of computer security to pseudo-randomly generate a strong secret encryption key.'quated from https://pynative.com/python-random-seed/)"
   ]
  }
 ],
 "metadata": {
  "kernelspec": {
   "display_name": "Python 3",
   "language": "python",
   "name": "python3"
  },
  "language_info": {
   "codemirror_mode": {
    "name": "ipython",
    "version": 3
   },
   "file_extension": ".py",
   "mimetype": "text/x-python",
   "name": "python",
   "nbconvert_exporter": "python",
   "pygments_lexer": "ipython3",
   "version": "3.7.4"
  }
 },
 "nbformat": 4,
 "nbformat_minor": 2
}
