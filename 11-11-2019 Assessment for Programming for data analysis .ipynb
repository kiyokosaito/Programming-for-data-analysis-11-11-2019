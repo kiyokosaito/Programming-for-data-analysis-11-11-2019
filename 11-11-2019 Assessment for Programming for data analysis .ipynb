{
 "cells": [
  {
   "cell_type": "markdown",
   "metadata": {},
   "source": [
    "This is the Project for Programming for data analysis\n",
    "\n",
    "Deadline is 11th Nov at https://github.com/kiyokosaito/Programming-for-data-analysis-11-11-2019\n",
    "\n",
    "[Introduction] What I will cover in this project is \"numpy\" package in Python. I will explain what numpy is first then will display 5 distributions from the package what we can do with them in this project.\n",
    "\n",
    "1. Purpose of the package\n",
    "2. Explanation of the use of the \"Simple random data\" and \"Permutations\" functions\n",
    "3. 5 distrubutions fuctions\n",
    "4. The use of seeds in generating pseudorandom numbers."
   ]
  },
  {
   "cell_type": "markdown",
   "metadata": {},
   "source": [
    "[Introduction]\n",
    "Numpy is the package in Python that can handle a long lists in python that provides a multidimensional array objects. I am going to through next 4 sections to study numpy package in Python. \n"
   ]
  },
  {
   "cell_type": "markdown",
   "metadata": {},
   "source": [
    "1.Purpose of the package\n",
    "\n",
    "\"NumPy is the fundamental package for scientific computing with Python. It contains among other things:\n",
    "\n",
    "-a powerful N-dimensional array object\n",
    "\n",
    "-sophisticated (broadcasting) functions\n",
    "\n",
    "-tools for integrating C/C++ and Fortran code\n",
    "\n",
    "-useful linear algebra, Fourier transform, and random number capabilities\" [see at https://numpy.org/]\n",
    "\n",
    "Numpy is a very useful package when it comes to handle data for mathmatical operations. Numpy uses less storage than Python thus it is much faster to handle large amount of data/lists. [see at https://towardsdatascience.com/a-hitchhiker-guide-to-python-numpy-arrays-9358de570121]\n",
    "\n",
    "\"This library provides you with an array data structure that holds some benefits over Python lists, such as: being more compact, faster access in reading and writing items, being more convenient and more efficient.\" [see at https://www.datacamp.com/community/tutorials/python-numpy-tutorial]"
   ]
  },
  {
   "cell_type": "code",
   "execution_count": null,
   "metadata": {},
   "outputs": [],
   "source": []
  }
 ],
 "metadata": {
  "kernelspec": {
   "display_name": "Python 3",
   "language": "python",
   "name": "python3"
  },
  "language_info": {
   "codemirror_mode": {
    "name": "ipython",
    "version": 3
   },
   "file_extension": ".py",
   "mimetype": "text/x-python",
   "name": "python",
   "nbconvert_exporter": "python",
   "pygments_lexer": "ipython3",
   "version": "3.7.4"
  }
 },
 "nbformat": 4,
 "nbformat_minor": 2
}
