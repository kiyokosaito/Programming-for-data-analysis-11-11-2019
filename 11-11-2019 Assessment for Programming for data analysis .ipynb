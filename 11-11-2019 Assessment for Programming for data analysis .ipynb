{
 "cells": [
  {
   "cell_type": "markdown",
   "metadata": {},
   "source": [
    "This is the Project for Programming for data analysis\n",
    "Deadline is 11th Nov at https://github.com/kiyokosaito/Programming-for-data-analysis-project-\n",
    "[Introduction] What I will cover in this project is \"numpy\" package in Python. I will explain what numpy is first then will display 5 distributions from the package what we can do with them in this project.\n",
    "\n",
    "Purpose of the package\n",
    "Explanation of the use of the \"Simple random data\" and \"Permutations\" functions\n",
    "5 distrubutions fuctions\n",
    "The use of seeds in generating pseudorandom numbers.\n",
    "Introduction\n",
    "Numpy is the package in Python that can handle a long lists in python that provides a multidimensional array objects. Even lists contained within lists, "
   ]
  },
  {
   "cell_type": "code",
   "execution_count": null,
   "metadata": {},
   "outputs": [],
   "source": []
  }
 ],
 "metadata": {
  "kernelspec": {
   "display_name": "Python 3",
   "language": "python",
   "name": "python3"
  },
  "language_info": {
   "codemirror_mode": {
    "name": "ipython",
    "version": 3
   },
   "file_extension": ".py",
   "mimetype": "text/x-python",
   "name": "python",
   "nbconvert_exporter": "python",
   "pygments_lexer": "ipython3",
   "version": "3.7.4"
  }
 },
 "nbformat": 4,
 "nbformat_minor": 2
}
